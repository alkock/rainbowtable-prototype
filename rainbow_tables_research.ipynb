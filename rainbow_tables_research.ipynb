{
  "nbformat": 4,
  "nbformat_minor": 0,
  "metadata": {
    "colab": {
      "provenance": []
    },
    "kernelspec": {
      "name": "python3",
      "display_name": "Python 3"
    },
    "language_info": {
      "name": "python"
    }
  },
  "cells": [
    {
      "cell_type": "code",
      "execution_count": 34,
      "metadata": {
        "id": "zQPhSBz22gD1"
      },
      "outputs": [],
      "source": [
        "import hashlib\n",
        "import random\n",
        "\n",
        "def sha3_hash(text):\n",
        "    \"\"\"\n",
        "    Calculates the SHA-3 hash of a given text.\n",
        "\n",
        "    Args:\n",
        "    text (str): The text to hash.\n",
        "\n",
        "    Returns:\n",
        "    bytes: The SHA-3 hash value.\n",
        "    \"\"\"\n",
        "    # Encode the text as bytes\n",
        "    text_bytes = text.encode('utf-8')\n",
        "\n",
        "    # Calculate the SHA-3 hash\n",
        "    hash_value = hashlib.sha3_256(text_bytes).digest()\n",
        "\n",
        "    return hash_value\n",
        "\n",
        "\n",
        "def reduce_sha3(hash_value, charset='abcdefghijklmnopqrstuvwxyzABCDEFGHIJKLMNOPQRSTUVWXYZ0123456789'):\n",
        "  \"\"\"\n",
        "  Reduction function for SHA3 hash values, attempting to distribute potential\n",
        "  plaintexts more evenly.\n",
        "\n",
        "  Args:\n",
        "      hash_value (str): The SHA3 hash value in hexadecimal string format.\n",
        "      charset (str, optional): The character set to use for generating\n",
        "          potential plaintexts. Defaults to 'abcdefghijklmnopqrstuvwxyzABCDEFGHIJKLMNOPQRSTUVWXYZ0123456789'.\n",
        "\n",
        "  Returns:\n",
        "      str: A possible plaintext string based on the hash. (Collisions are still possible)\n",
        "  \"\"\"\n",
        "\n",
        "  # Convert the hash value to bytes\n",
        "  hash_bytes = hash_value\n",
        "\n",
        "  # Extract and manipulate sections of the hash to create a new string\n",
        "  reduced_string = \"\"\n",
        "  reduced_string += ''.join(random.sample(charset, 5))  # Randomly select 5 characters\n",
        "  reduced_string += chr(int(hash_value[:2], 32) ^ random.randint(0, 255))  # XOR first 2 bytes with random value\n",
        "  reduced_string += ''.join(random.choices(charset, k=len(hash_bytes) // 2))  # Randomly select half the hash length characters\n",
        "\n",
        "  return reduced_string\n",
        "\n",
        "\n",
        "\n",
        "file = open('most_used_merged_unique.txt_v2.txt', 'r')\n",
        "rainbowTable = open('rainbowtable.txt', 'a')\n",
        "\n",
        "while True :\n",
        "  content=file.readline().strip()\n",
        "  beginning = content\n",
        "  if not content:\n",
        "      break\n",
        "  sha3=\"\"\n",
        "  reduced = \"\"\n",
        "  for x in range(0, 10):\n",
        "    sha3 = sha3_hash(content)\n",
        "    content = reduce_sha3(sha3.hex())\n",
        "  endOfCall = sha3_hash(content)\n",
        "  rainbowTable.write(beginning + \":\" + endOfCall.hex() + '\\n')\n",
        "file.close()\n",
        "rainbowTable.close()\n"
      ]
    }
  ]
}